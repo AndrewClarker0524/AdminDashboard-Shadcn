{
  "nbformat": 4,
  "nbformat_minor": 0,
  "metadata": {
    "colab": {
      "provenance": [],
      "include_colab_link": true
    },
    "kernelspec": {
      "name": "python3",
      "display_name": "Python 3"
    },
    "language_info": {
      "name": "python"
    }
  },
  "cells": [
    {
      "cell_type": "markdown",
      "metadata": {
        "id": "view-in-github",
        "colab_type": "text"
      },
      "source": [
        "<a href=\"https://colab.research.google.com/github/AndrewClarker0524/AdminDashboard-Shadcn/blob/main/trials_1.ipynb\" target=\"_parent\"><img src=\"https://colab.research.google.com/assets/colab-badge.svg\" alt=\"Open In Colab\"/></a>"
      ]
    },
    {
      "cell_type": "code",
      "execution_count": null,
      "metadata": {
        "id": "AX_bpLDu_U3E",
        "collapsed": true
      },
      "outputs": [],
      "source": [
        "# @title\n",
        "#this code logically makes sense but cannot crop the images correctly\n",
        "import cv2\n",
        "import os\n",
        "\n",
        "# Load image\n",
        "img = cv2.imread(\"Downloads/educate.it/business/deniz/nartest4/question_reco/image.png\")\n",
        "# img = cv2.imread('E:/DetectImages/practise/images')\n",
        "gray = cv2.cvtColor(img, cv2.COLOR_BGR2GRAY)\n",
        "blur = cv2.GaussianBlur(gray, (5, 5), 0)\n",
        "\n",
        "# Apply threshold\n",
        "ret, thresh1 = cv2.threshold(blur, 0, 255, cv2.THRESH_OTSU + cv2.THRESH_BINARY_INV)\n",
        "\n",
        "# Apply dilation\n",
        "rect_kernel = cv2.getStructuringElement(cv2.MORPH_RECT, (18, 18))\n",
        "dilation = cv2.dilate(thresh1, rect_kernel, iterations=1)\n",
        "\n",
        "# Find contours\n",
        "contours, hierarchy = cv2.findContours(dilation, cv2.RETR_EXTERNAL, cv2.CHAIN_APPROX_NONE)\n",
        "\n",
        "# Create output directory if it doesn't exist\n",
        "output_dir = 'Downloads/educate.it/business/deniz/nartest4/question_reco_output'\n",
        "os.makedirs(output_dir, exist_ok=True)\n",
        "\n",
        "# Iterate through contours and save each cropped question\n",
        "for i, cnt in enumerate(contours):\n",
        "    x, y, w, h = cv2.boundingRect(cnt)\n",
        "\n",
        "    # Crop the detected question\n",
        "    cropped_img = img[y:y+h, x:x+w]\n",
        "\n",
        "    # Save the cropped question\n",
        "    cropped_img_path = os.path.join(output_dir, f'question_{i+1}.png')\n",
        "    cv2.imwrite(cropped_img_path, cropped_img)\n",
        "\n",
        "    # Optionally, draw rectangle on original image for visualization\n",
        "    rect = cv2.rectangle(img, (x, y), (x + w, y + h), (0, 255, 0), 2)\n",
        "\n",
        "# Save the image with drawn rectangles\n",
        "cv2.imwrite(os.path.join(output_dir, 'drawed2.png'), img)\n",
        "\n",
        "print(\"Cropped question images have been saved successfully.\")\n"
      ]
    }
  ]
}